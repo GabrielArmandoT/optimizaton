{
 "cells": [
  {
   "cell_type": "markdown",
   "metadata": {},
   "source": [
    "# Linear Programming Turorial: \n",
    "## 2) Parametrized Furniture Factory Problem"
   ]
  },
  {
   "cell_type": "markdown",
   "metadata": {},
   "source": [
    "## Objective and prerequisites\n",
    "\n",
    "The goal of this Jupyter Notebook is to describe a parametrized version of the Furniture Factory Problem discussed in the\n",
    "videos: *Chapter 6, Modeling and Solving Linear Programming Problems* and\n",
    "*Chapter 7, Sensitivity Analysis of Linear Programming Problems*, of the [LP Tutorial](https://www.gurobi.com/resource/mathematical-programming-tutorial-linear-programming/).\n",
    "The Furniture Factory Problem is formulated as a linear programming programming problem using the Gurobi Python API. The Furniture Factory Problem has been taken from the Saul Gass book: An illustrated Guide to Linear Programming.\n",
    "\n",
    "To fully understand the content of this notebook, the reader should:\n",
    "\n",
    "* Be familiar with Python.\n",
    "* Have a background in any branch of engineering, computer science, economics, statistics, any branch of the “hard” sciences, or any discipline that uses quantitative models and methods.\n",
    "\n",
    "The reader should also consult the  [documentation](https://www.gurobi.com/resources/?category-filter=documentation)\n",
    "of the Gurobi Python API.\n",
    "\n",
    "**Download the Repository** <br />\n",
    "You can download the repository containing this and other examples by clicking [here](https://github.com/Gurobi/modeling-examples/archive/master.zip). \n",
    "\n",
    "**Gurobi License** <br />\n",
    "In order to run this Jupyter Notebook properly, you must have a Gurobi license. If you do not have one, you can request an [evaluation license xxx](xxx) as a *commercial user*, or download a [free license xxx](xxx) as an *academic user*."
   ]
  },
  {
   "cell_type": "markdown",
   "metadata": {},
   "source": [
    "## The Furniture Factory Problem\n",
    "\n",
    "A data scientist is in charge of developing the weekly production plan of two key products that the furniture factory makes: chairs and tables. The data scientist using machine learning techniques predicts that the selling price of a chair is $\\$45$ and the selling price of a table is $\\$80$ dollars. There are two critical resources in the production of chairs and tables:\n",
    "Mahogany (measured in board square-feet) and labor (measured in work hours). There are 400 units of mahogany available at the beginning of each week, and there are 450 units of labor available during each week. The data scientist estimates that one chair requires 5 units of mahogany and 10 units of labor. One table requires 20 units of mahogany and 15 units of labor. The marketing department has told the data scientist that ALL the production of chairs and tables can be sold.\n",
    "\n",
    "The goal is to create a production plan that maximizes total revenue.\n",
    "\n",
    "To determine a production plan, we need to decide how many chairs and tables to make in order to maximize total revenue, while satisfying resources constraints. This problem has two decision variables:\n",
    "* x1: number of chairs to produce.\n",
    "* x2: number of tables to produce. \n",
    "\n",
    "The number of chairs and tables to produce should be a non-negative number. That is, x1, x2 ≥ 0. The data of the furniture problem can be summarized in the table below. \n",
    "\n",
    "![problem_summary1](problem_summary1.PNG)\n",
    "\n",
    "We present now the Furniture Factory Problem in a parametrized formulation. The parametrized formulation separates the data of the problem from the model formulation."
   ]
  },
  {
   "cell_type": "code",
   "execution_count": 1,
   "metadata": {},
   "outputs": [],
   "source": [
    "# pip install for a limited license of the Gurobi callable library\n",
    "# %pip install gurobipy"
   ]
  },
  {
   "cell_type": "markdown",
   "metadata": {},
   "source": [
    "## Python Implementation\n",
    "\n",
    "We import the Gurobi Python Module."
   ]
  },
  {
   "cell_type": "code",
   "execution_count": 2,
   "metadata": {},
   "outputs": [],
   "source": [
    "import gurobipy as gp\n",
    "from gurobipy import GRB\n",
    "\n",
    "# tested with Python 3.7.0 & Gurobi 9.1.0"
   ]
  },
  {
   "cell_type": "markdown",
   "metadata": {},
   "source": [
    "## Input Data\n",
    "\n",
    "We define all the input data for the model."
   ]
  },
  {
   "cell_type": "code",
   "execution_count": 3,
   "metadata": {},
   "outputs": [],
   "source": [
    "# resources data\n",
    "resources, capacity = gp.multidict({\n",
    "  'mahogany': 400,\n",
    "  'labor':  450 })"
   ]
  },
  {
   "cell_type": "markdown",
   "metadata": {},
   "source": [
    "The `gp.multidict()` function returns a list which maps each resource (key) to its capacity value."
   ]
  },
  {
   "cell_type": "code",
   "execution_count": 4,
   "metadata": {},
   "outputs": [],
   "source": [
    "# products data,\n",
    "products, price = gp.multidict({\n",
    "  'chair': 45,\n",
    "  'table':  80 })"
   ]
  },
  {
   "cell_type": "markdown",
   "metadata": {},
   "source": [
    "The `gp.multidict()` function returns a list which maps each resource (key) to its price value."
   ]
  },
  {
   "cell_type": "code",
   "execution_count": 5,
   "metadata": {},
   "outputs": [],
   "source": [
    "# Bill of materials: resources required by each product\n",
    "bom = {\n",
    "  ('mahogany', 'chair'):  5,\n",
    "  ('mahogany', 'table'): 20,\n",
    "  ('labor',    'chair'): 10,\n",
    "  ('labor',    'table'): 15 }"
   ]
  },
  {
   "cell_type": "markdown",
   "metadata": {},
   "source": [
    "The bom dictionary has a 2-tuple as a key, mapping the resource required by a product with its quantity per."
   ]
  },
  {
   "cell_type": "markdown",
   "metadata": {},
   "source": [
    "## Model Deployment\n",
    "\n",
    "We now define the data structures of the parametrized model.\n",
    "\n",
    "### Sets and Indices\n",
    "\n",
    "$r \\in \\text{resources}$: Index and set of resources.\n",
    "\n",
    "$p \\in \\text{products}$: Index and set of products.\n",
    "\n",
    "### Parameters\n",
    "\n",
    "$\\text{price}_p \\geq 0$: Price of product $p$.\n",
    "\n",
    "$\\text{capacity}_r \\geq 0$: Capacity of resource $r$.\n",
    "\n",
    "$\\text{bom}_{r,p} \\geq 0$: Amount of resource $r$ required by product $p$."
   ]
  },
  {
   "cell_type": "markdown",
   "metadata": {},
   "source": [
    "The `Model()` constructor creates a model object f . The name of this new model is again ‘Furniture’. This new model f initially contains no decision variables, constraints, or objective function."
   ]
  },
  {
   "cell_type": "code",
   "execution_count": 6,
   "metadata": {},
   "outputs": [
    {
     "name": "stdout",
     "output_type": "stream",
     "text": [
      "Using license file C:\\Users\\panit\\gurobi.lic\n"
     ]
    }
   ],
   "source": [
    "# Create Furniture Factory  model\n",
    "f = gp.Model(\"Furniture\")"
   ]
  },
  {
   "cell_type": "markdown",
   "metadata": {},
   "source": [
    "\n",
    "### Decision Variables\n",
    "\n",
    "$\\text{make}_p \\geq 0$: Number of products of type $p$ to build.\n",
    "\n",
    "The `f.addVars()` method adds decision variables to the model object f, and returns a Gurobi tupledict object `make` that contains the variables recently created.\n",
    "The first argument `products` provides the indices that will be used as keys to access the variables in the returned tupledict. The last argument gives the name ‘make’ to the  decision variables. The decision variables are of type continuous and non-negative, with no upper bound."
   ]
  },
  {
   "cell_type": "code",
   "execution_count": 7,
   "metadata": {},
   "outputs": [],
   "source": [
    "# Create decision variables for the products to make\n",
    "make = f.addVars(products, name=\"make\")"
   ]
  },
  {
   "cell_type": "markdown",
   "metadata": {},
   "source": [
    "### Objective Function\n",
    "\n",
    "The objective function is to maximize total revenue.\n",
    "\n",
    "$$\n",
    "\\text{Max} \\quad \\text{revenue} = \\sum_{p \\: \\in \\: \\text{products}} \\text{price}_{p}*\\text{make}_{p}\n",
    "$$\n",
    "\n",
    "The `f.setObjective()` method adds the objective function to the model object f.\n",
    "The first argument is a linear expression which is generated by the `prod` method. The `prod` method is the product of the object `price` with the object `make` for each product p in the set `products`. The second argument defines the sense of the optimization."
   ]
  },
  {
   "cell_type": "code",
   "execution_count": 8,
   "metadata": {},
   "outputs": [],
   "source": [
    "# The objective is to maximize total revenue\n",
    "f.setObjective(make.prod(price), GRB.MAXIMIZE)"
   ]
  },
  {
   "cell_type": "markdown",
   "metadata": {},
   "source": [
    "## Constraints\n",
    "\n",
    "The resources constraints establish that the consumpution of each raw material $r$ by building the products should not exceed the capacity available of the raw material.\n",
    "\n",
    "$$\n",
    "\\sum_{p \\: \\in \\: \\text{products}} \\text{bom}_{r,p}*\\text{make}_{p} \\leq \\text{capacity}_r \\quad \\forall r \\in \\text{resources}\n",
    "$$"
   ]
  },
  {
   "cell_type": "markdown",
   "metadata": {},
   "source": [
    "The `addConstrs()` method adds constraints to the model object f, and returns a Gurobi tupledict object that contains the constraints recently created. We store the constrained generated in an object called `res`. The left-hand-side of each constraint can be created by using the `gp.quicksum()` method. The second argument is the sense of the constraint (≤). \n",
    "The third argument is the `capacity` value associated to the `resource`. \n",
    "Notice that one constraint will be generated per resource r in the set `resources`.\n",
    "The last argument gives the name of the constraint."
   ]
  },
  {
   "cell_type": "code",
   "execution_count": 9,
   "metadata": {},
   "outputs": [],
   "source": [
    "# Create an object of type list to store the constraints for each resource\n",
    "\n",
    "res = f.addConstrs(((gp.quicksum(bom[r,p]*make[p] for p in products) <= capacity[r]) for r in resources), name='R')"
   ]
  },
  {
   "cell_type": "markdown",
   "metadata": {},
   "source": [
    "The `f.write()` method writes the LP problem formulation in the file 'furniture.lp'. This file is very helpful for debugging purposes. The furniture.lp file contains the LP formulation that Gurobi has in memory.\n",
    "\n",
    "![furniture_lp](furniture_lp.PNG)"
   ]
  },
  {
   "cell_type": "markdown",
   "metadata": {},
   "source": [
    "The `f.optimize()` method runs the optimization engine to solve the LP problem in the model object f"
   ]
  },
  {
   "cell_type": "code",
   "execution_count": 11,
   "metadata": {},
   "outputs": [
    {
     "name": "stdout",
     "output_type": "stream",
     "text": [
      "Gurobi Optimizer version 9.1.2 build v9.1.2rc0 (win64)\n",
      "Thread count: 4 physical cores, 8 logical processors, using up to 8 threads\n",
      "Optimize a model with 2 rows, 2 columns and 4 nonzeros\n",
      "Model fingerprint: 0xd0437183\n",
      "Coefficient statistics:\n",
      "  Matrix range     [5e+00, 2e+01]\n",
      "  Objective range  [5e+01, 8e+01]\n",
      "  Bounds range     [0e+00, 0e+00]\n",
      "  RHS range        [4e+02, 5e+02]\n",
      "Presolve time: 0.00s\n",
      "Presolved: 2 rows, 2 columns, 4 nonzeros\n",
      "\n",
      "Iteration    Objective       Primal Inf.    Dual Inf.      Time\n",
      "       0    6.5000000e+31   2.968750e+30   6.500000e+01      0s\n",
      "       2    2.2000000e+03   0.000000e+00   0.000000e+00      0s\n",
      "\n",
      "Solved in 2 iterations and 0.01 seconds\n",
      "Optimal objective  2.200000000e+03\n"
     ]
    }
   ],
   "source": [
    "# Run optimization engine\n",
    "f.optimize()"
   ]
  },
  {
   "cell_type": "code",
   "execution_count": 12,
   "metadata": {},
   "outputs": [
    {
     "name": "stdout",
     "output_type": "stream",
     "text": [
      "make[chair] 24.0\n",
      "make[table] 14.0\n",
      "Optimal total revenue: $2,200.0\n"
     ]
    }
   ],
   "source": [
    "# Display optimal production plan\n",
    "for v in f.getVars():\n",
    "    print(v.varName, v.x)\n",
    "\n",
    "print(f\"Optimal total revenue: ${f.objVal:,}\")"
   ]
  },
  {
   "cell_type": "markdown",
   "metadata": {},
   "source": [
    "The `f.getVars()` method retrieves a list of all variables in the model object f. The print function displays the decision variable names `v.varName` and solution value `v.x`."
   ]
  },
  {
   "cell_type": "markdown",
   "metadata": {},
   "source": [
    "## Exercise 1\n",
    "\n",
    "The goal of this exercise is for you to parametrized the diet problem as a linear programming model using the Gurobi Python API and find the optimal diet. This problem is defined in the `furniture_problem v1` Jupyter Notebook."
   ]
  },
  {
   "cell_type": "markdown",
   "metadata": {},
   "source": [
    "## Economic interpretation in Linear Programming models\n",
    "+ Solving LP problems provides more information than only the values of the decision variables.\n",
    "+ Associated with an LP optimal solution there are shadow prices for the constraints.\n",
    "+ The shadow price of a constraint represents the change in the value of the objective function per unit of increase in the right-hand side value of that constraint.\n",
    "+ There are shadow prices associated with the non-negativity constraints. These shadow prices are called the reduced costs."
   ]
  },
  {
   "cell_type": "code",
   "execution_count": 13,
   "metadata": {},
   "outputs": [
    {
     "name": "stdout",
     "output_type": "stream",
     "text": [
      "R[mahogany] 1.0\n",
      "R[labor] 4.0\n"
     ]
    }
   ],
   "source": [
    "# display shadow prices of resources constraints\n",
    "for r in res.values():\n",
    "    print(r.ConstrName, r.Pi)"
   ]
  },
  {
   "cell_type": "markdown",
   "metadata": {},
   "source": [
    "## Exercise 2\n",
    "\n",
    "Print the shadow prices of the diet problem constraints. Provide the economic interpretation for all the shadow prices. "
   ]
  },
  {
   "cell_type": "markdown",
   "metadata": {},
   "source": [
    "## References\n",
    "\n",
    "Saul I. Gass, An illustrated guide to linear programming, Dover Publications; Revised ed. edition (March 1, 1990).\n",
    "\n",
    "Copyright © 2021 Gurobi Optimization, LLC"
   ]
  },
  {
   "cell_type": "code",
   "execution_count": null,
   "metadata": {},
   "outputs": [],
   "source": []
  }
 ],
 "metadata": {
  "kernelspec": {
   "display_name": "Python 3",
   "language": "python",
   "name": "python3"
  },
  "language_info": {
   "codemirror_mode": {
    "name": "ipython",
    "version": 3
   },
   "file_extension": ".py",
   "mimetype": "text/x-python",
   "name": "python",
   "nbconvert_exporter": "python",
   "pygments_lexer": "ipython3",
   "version": "3.8.5"
  }
 },
 "nbformat": 4,
 "nbformat_minor": 2
}
