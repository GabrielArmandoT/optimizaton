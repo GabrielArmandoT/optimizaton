{
 "cells": [
  {
   "cell_type": "markdown",
   "metadata": {},
   "source": [
    "# Simple Integer Linear Programming Problem"
   ]
  },
  {
   "cell_type": "markdown",
   "metadata": {},
   "source": [
    "$$\n",
    "\\text{Max} \\quad x + y +z\n",
    "$$\n",
    "Subject to:\n",
    "$$\n",
    "x + 2y + 3z \\leq 4 \\\\\n",
    "x + y \\geq 1 \\\\\n",
    "x,y, z \\in \\{0,1\\}\n",
    "$$\n"
   ]
  },
  {
   "cell_type": "code",
   "execution_count": null,
   "metadata": {},
   "outputs": [],
   "source": [
    "# pip install for a limited license of the Gurobi callable library\n",
    "# %pip install gurobipy"
   ]
  },
  {
   "cell_type": "markdown",
   "metadata": {},
   "source": [
    "## Python Implementation\n",
    "\n",
    "The following Python code imports the Gurobi callable library (functions and classes)"
   ]
  },
  {
   "cell_type": "code",
   "execution_count": 1,
   "metadata": {},
   "outputs": [],
   "source": [
    "import gurobipy as gp\n",
    "from gurobipy import GRB\n",
    "\n",
    "# tested with Python 3.7.0 & Gurobi 9.1.0"
   ]
  },
  {
   "cell_type": "markdown",
   "metadata": {},
   "source": [
    "### Creating the model\n",
    "The `Model()` constructor creates a model object m . The name of this model is ‘example’. This model m initially contains no decision variables, constraints, or objective function."
   ]
  },
  {
   "cell_type": "code",
   "execution_count": 2,
   "metadata": {},
   "outputs": [
    {
     "name": "stdout",
     "output_type": "stream",
     "text": [
      "Using license file C:\\Users\\panit\\gurobi.lic\n"
     ]
    }
   ],
   "source": [
    "# Create the  model m\n",
    "m = gp.Model(\"example\")"
   ]
  },
  {
   "cell_type": "markdown",
   "metadata": {},
   "source": [
    "### Adding decision variables to the model\n",
    "The `m.addVar()` method adds a decision variable to the model object m, one at a time. The argument of the method gives the name of added decision variable. Each variable gets a type (binary), and a name."
   ]
  },
  {
   "cell_type": "code",
   "execution_count": 3,
   "metadata": {},
   "outputs": [],
   "source": [
    "# Create decision variables\n",
    "x = m.addVar(vtype=GRB.BINARY, name=\"x\")\n",
    "y = m.addVar(vtype=GRB.BINARY, name=\"y\")\n",
    "z = m.addVar(vtype=GRB.BINARY, name=\"z\")"
   ]
  },
  {
   "cell_type": "markdown",
   "metadata": {},
   "source": [
    "### Setting the objective function\n",
    "The `m.setObjective()` method adds the objective function to the model object m. The first argument is a linear expression (LinExpr) and the second argument defines the sense of the optimization. A linear expression object (LinExpr) consists of a constant term, plus a sum of coefficient-variables pairs that capture the linear terms."
   ]
  },
  {
   "cell_type": "code",
   "execution_count": 4,
   "metadata": {},
   "outputs": [],
   "source": [
    "# Define objective function\n",
    "m.setObjective(x + y + 2*z, GRB.MAXIMIZE)"
   ]
  },
  {
   "cell_type": "markdown",
   "metadata": {},
   "source": [
    "### Adding constraints to the model\n",
    "The `m.addConstr()` method adds a constraint to the model object m and considers a linear expression (LinExpr) as the left-hand-side of the constraints, the sense of the constraint, and its RHS value. The last argument gives the name of the constraint."
   ]
  },
  {
   "cell_type": "code",
   "execution_count": 5,
   "metadata": {},
   "outputs": [],
   "source": [
    "# Constraint 1\n",
    "c1 = m.addConstr(x + 2*y + 3*z <= 4, name=\"c1\")\n",
    "# Constraint 2\n",
    "c2 = m.addConstr(x + y >= 1, name=\"c2\")"
   ]
  },
  {
   "cell_type": "code",
   "execution_count": 6,
   "metadata": {},
   "outputs": [],
   "source": [
    "# save model for inspection\n",
    "m.write('example.lp')"
   ]
  },
  {
   "cell_type": "markdown",
   "metadata": {},
   "source": [
    "![example_lp](example_lp.PNG)"
   ]
  },
  {
   "cell_type": "markdown",
   "metadata": {},
   "source": [
    "The `m.optimize()` method runs the optimization engine to solve the LP problem in the model object m"
   ]
  },
  {
   "cell_type": "code",
   "execution_count": 7,
   "metadata": {},
   "outputs": [
    {
     "name": "stdout",
     "output_type": "stream",
     "text": [
      "Gurobi Optimizer version 9.1.2 build v9.1.2rc0 (win64)\n",
      "Thread count: 4 physical cores, 8 logical processors, using up to 8 threads\n",
      "Optimize a model with 2 rows, 3 columns and 5 nonzeros\n",
      "Model fingerprint: 0x98886187\n",
      "Variable types: 0 continuous, 3 integer (3 binary)\n",
      "Coefficient statistics:\n",
      "  Matrix range     [1e+00, 3e+00]\n",
      "  Objective range  [1e+00, 2e+00]\n",
      "  Bounds range     [1e+00, 1e+00]\n",
      "  RHS range        [1e+00, 4e+00]\n",
      "Found heuristic solution: objective 2.0000000\n",
      "Presolve removed 2 rows and 3 columns\n",
      "Presolve time: 0.01s\n",
      "Presolve: All rows and columns removed\n",
      "\n",
      "Explored 0 nodes (0 simplex iterations) in 0.02 seconds\n",
      "Thread count was 1 (of 8 available processors)\n",
      "\n",
      "Solution count 2: 3 2 \n",
      "\n",
      "Optimal solution found (tolerance 1.00e-04)\n",
      "Best objective 3.000000000000e+00, best bound 3.000000000000e+00, gap 0.0000%\n"
     ]
    }
   ],
   "source": [
    "# Run optimization engine\n",
    "m.optimize()"
   ]
  },
  {
   "cell_type": "code",
   "execution_count": 8,
   "metadata": {},
   "outputs": [
    {
     "name": "stdout",
     "output_type": "stream",
     "text": [
      "x 1.0\n",
      "y 0.0\n",
      "z 1.0\n",
      "\n",
      "Optimal objective function value: 3.0\n"
     ]
    }
   ],
   "source": [
    "# Display optimal solution\n",
    "for v in m.getVars():\n",
    "    print(v.varName, v.x)\n",
    "\n",
    "print(f\"\\nOptimal objective function value: {m.objVal:,}\")"
   ]
  },
  {
   "cell_type": "markdown",
   "metadata": {},
   "source": [
    "The `m.getVars()` method retrieves a list of all variables in the model object m. The print function displays the decision variable names `m.varName` and solution value `m.x`."
   ]
  },
  {
   "cell_type": "markdown",
   "metadata": {},
   "source": [
    "## Parametrized Model\n",
    "\n",
    "### Data\n",
    "\n",
    "![example_data](example_data.PNG)\n",
    "\n",
    "### Set and indices\n",
    "$j \\in J = \\{𝑥,𝑦,𝑧 \\}$: Index and set of decision variables. \n",
    "\n",
    "$i \\in I = \\{𝑐𝑜𝑛1, 𝑐𝑜𝑛2 \\}$: Index and set of constraints.\n",
    "\n",
    "### Parameters\n",
    "\n",
    "$c_j$: Objective function coefficient associated with decision variable $j$. The objective function coefficients values are:\n",
    "\n",
    "$$\n",
    "c_x = 1, c_y = 1, c_z = 2\n",
    "$$\n",
    "\n",
    "**Note**: Observe that constraint $con2$: $x+y \\geq 1$ is equivalent to   $-x-y \\leq -1$.\n",
    "\n",
    "$b_i$: RHS associated with constraint $i$. The constraints RHS values are:\n",
    "\n",
    "$$\n",
    "b_{con1} = 4, b_{con2} = -1\n",
    "$$\n",
    "\n",
    "\n",
    "$a_{i,j}$: coefficient of decision variable $j$ and constraint $i$. The LHS values of the constraints are:\n",
    "\n",
    "$$\n",
    "a_{con1,x} = 1, a_{con1,y} = 2, a_{con1,z} = 3 \\\\\n",
    "a_{con2,x} = -1, a_{con2,y} = -1, a_{con2,z} = 0\n",
    "$$\n",
    "\n",
    "### Decision Variables\n",
    "\n",
    "$v_j \\in \\{0,1\\}$: Decision variable $j$.\n",
    "\n",
    "### Objective Function\n",
    "\n",
    "$$\n",
    "\\text{Max} \\quad \\sum_{j \\in J} c_j * v_j\n",
    "$$\n",
    "\n",
    "### Constraints\n",
    "\n",
    "$$\n",
    "\\sum_{j \\in J} a_{i,j} * v_j \\leq b_i \\quad \\forall i \\in I\n",
    "$$"
   ]
  },
  {
   "cell_type": "markdown",
   "metadata": {},
   "source": [
    "## Create Parametrized Model\n",
    "\n",
    "### Input Data: Sets and Parameters\n",
    "We define all the input data for the model.\n",
    "\n",
    "$c_j$: Objective function coefficient associated with decision variable $j$. The objective function coefficients values are:\n",
    "\n",
    "$$\n",
    "c_x = 1, c_y = 1, c_z = 2\n",
    "$$"
   ]
  },
  {
   "cell_type": "code",
   "execution_count": 9,
   "metadata": {},
   "outputs": [],
   "source": [
    "# objective function coefficients\n",
    "jvar, c_j = gp.multidict({\n",
    "    'x': 1,\n",
    "    'y': 1,\n",
    "    'z': 2\n",
    "})"
   ]
  },
  {
   "cell_type": "markdown",
   "metadata": {},
   "source": [
    "A Python dictionary allows you to map arbitrary key values to pieces of data. The Gurobi `multidict()` function splits a single dictionary into multiple dictionaries. The input dictionary should map each key to a list of n values. This `multidict()` function initialize the keys of the decision variable `J` and  the values of the coefficients associated to the decision variables, `c_j`.\n",
    "\n",
    "---\n",
    "\n",
    "$b_i$: RHS associated with constraint $i$. The constraints RHS values are:\n",
    "\n",
    "$$\n",
    "b_{con1} = 4, b_{con2} = -1\n",
    "$$"
   ]
  },
  {
   "cell_type": "code",
   "execution_count": 10,
   "metadata": {},
   "outputs": [],
   "source": [
    "# RHS associated to each constraint\n",
    "icon, b_i = gp.multidict({\n",
    "    'con1': 4,\n",
    "    'con2': -1\n",
    "})"
   ]
  },
  {
   "cell_type": "markdown",
   "metadata": {},
   "source": [
    "This `multidict()` function initialize the keys of the constraints `I` and  the values of the RHS associated to the constraints, `b_i`.\n",
    "\n",
    "---\n",
    "\n",
    "$a_{i,j}$: coefficient of decision variable $j$ and constraint $i$. The LHS values of the constraints are:\n",
    "\n",
    "$$\n",
    "a_{con1,x} = 1, a_{con1,y} = 2, a_{con1,z} = 3 \\\\\n",
    "a_{con2,x} = -1, a_{con2,y} = -1, a_{con2,z} = 0\n",
    "$$"
   ]
  },
  {
   "cell_type": "code",
   "execution_count": 11,
   "metadata": {},
   "outputs": [],
   "source": [
    "# Coefficients of LHS of constraints\n",
    "a_ij = {\n",
    "    ('con1', 'x'):  1,\n",
    "    ('con1', 'y'):  2,\n",
    "    ('con1', 'z'):  3,\n",
    "    ('con2', 'x'):  -1,\n",
    "    ('con2', 'y'):  -1,\n",
    "    ('con2', 'z'):  0\n",
    "}"
   ]
  },
  {
   "cell_type": "markdown",
   "metadata": {},
   "source": [
    "This Python dictionary has as keys tuples with the constraint and variable associated with a LHS coefficient."
   ]
  },
  {
   "cell_type": "code",
   "execution_count": 12,
   "metadata": {},
   "outputs": [],
   "source": [
    "# multidict version (remove in final version)\n",
    "\n",
    "ij, aa_ij = gp.multidict({\n",
    "    ('con1', 'x'):  1,\n",
    "    ('con1', 'y'):  2,\n",
    "    ('con1', 'z'):  3,\n",
    "    ('con2', 'x'):  -1,\n",
    "    ('con2', 'y'):  -1,\n",
    "    ('con2', 'z'):  0\n",
    "})"
   ]
  },
  {
   "cell_type": "markdown",
   "metadata": {},
   "source": [
    "### Creating the model\n",
    "The `Model()` constructor creates a model object m2 for the parametrized version of the problem. The name of this model is ‘example2’. "
   ]
  },
  {
   "cell_type": "code",
   "execution_count": 13,
   "metadata": {},
   "outputs": [],
   "source": [
    "# Create the  model m2\n",
    "m2 = gp.Model(\"example2\")"
   ]
  },
  {
   "cell_type": "markdown",
   "metadata": {},
   "source": [
    "### Decision Variables\n",
    "\n",
    "$v_j \\in \\{0,1\\}$: Decision variable $j$.\n",
    "\n",
    "The `m2.addVars()` method adds all the decision variables to the model object m2.\n",
    "The first argument `J` provides the indices that will be used as keys to access the variables. The second argument `vtype=GRB.BINARY` defines the decision variables as binary.\n",
    "The last argument gives the name ‘v’ to the  decision variables. "
   ]
  },
  {
   "cell_type": "code",
   "execution_count": 14,
   "metadata": {},
   "outputs": [],
   "source": [
    "# Create decision variables for the set of decison variables J\n",
    "v = m2.addVars(jvar, vtype=GRB.BINARY, name=\"v\")"
   ]
  },
  {
   "cell_type": "markdown",
   "metadata": {},
   "source": [
    "### Objective Function\n",
    "\n",
    "$$\n",
    "\\text{Max} \\quad \\sum_{j \\in J} c_j * v_j\n",
    "$$\n",
    "\n",
    "The `m2.setObjective()` method adds the objective function to the model object m2.\n",
    "The first argument `objfcn` is a linear expression which is generated by the `gp.quicksum()` method. \n",
    "The second argument defines the sense of the optimization."
   ]
  },
  {
   "cell_type": "code",
   "execution_count": 15,
   "metadata": {},
   "outputs": [],
   "source": [
    "# Objective function\n",
    "objfcn = gp.quicksum(c_j[j]*v[j] for j in jvar)\n",
    "\n",
    "m2.setObjective(objfcn, GRB.MAXIMIZE)"
   ]
  },
  {
   "cell_type": "markdown",
   "metadata": {},
   "source": [
    "### Constraints\n",
    "\n",
    "$$\n",
    "\\sum_{j \\in J} a_{i,j} * v_j \\leq b_i \\quad \\forall i \\in I\n",
    "$$\n",
    "\n",
    "The `addConstrs()` method adds constraints to the model object m2. We store the constraint generated in an object called `cons`. The left-hand-side of each constraint can be created by using the `gp.quicksum()` method. The second argument is the sense of the constraint (≤). \n",
    "The third argument is the RHS value associated to the constraint. \n",
    "Notice that one constraint will be generated per key in the set `icon`.\n",
    "The last argument gives the name of the constraint."
   ]
  },
  {
   "cell_type": "code",
   "execution_count": 16,
   "metadata": {},
   "outputs": [],
   "source": [
    "# Create the constraints of the model\n",
    "\n",
    "cons = m2.addConstrs(((gp.quicksum(a_ij[i,j]*v[j] for j in jvar) <= b_i[i]) for i in icon), name='cons')"
   ]
  },
  {
   "cell_type": "code",
   "execution_count": 17,
   "metadata": {},
   "outputs": [],
   "source": [
    "# save model for inspection\n",
    "m2.write('example2.lp')\n"
   ]
  },
  {
   "cell_type": "markdown",
   "metadata": {},
   "source": [
    "![example2_lp](example2_lp.PNG)"
   ]
  },
  {
   "cell_type": "code",
   "execution_count": 18,
   "metadata": {},
   "outputs": [
    {
     "name": "stdout",
     "output_type": "stream",
     "text": [
      "Gurobi Optimizer version 9.1.2 build v9.1.2rc0 (win64)\n",
      "Thread count: 4 physical cores, 8 logical processors, using up to 8 threads\n",
      "Optimize a model with 2 rows, 3 columns and 5 nonzeros\n",
      "Model fingerprint: 0x8d4960d3\n",
      "Variable types: 0 continuous, 3 integer (3 binary)\n",
      "Coefficient statistics:\n",
      "  Matrix range     [1e+00, 3e+00]\n",
      "  Objective range  [1e+00, 2e+00]\n",
      "  Bounds range     [1e+00, 1e+00]\n",
      "  RHS range        [1e+00, 4e+00]\n",
      "Found heuristic solution: objective 2.0000000\n",
      "Presolve removed 2 rows and 3 columns\n",
      "Presolve time: 0.00s\n",
      "Presolve: All rows and columns removed\n",
      "\n",
      "Explored 0 nodes (0 simplex iterations) in 0.02 seconds\n",
      "Thread count was 1 (of 8 available processors)\n",
      "\n",
      "Solution count 2: 3 2 \n",
      "\n",
      "Optimal solution found (tolerance 1.00e-04)\n",
      "Best objective 3.000000000000e+00, best bound 3.000000000000e+00, gap 0.0000%\n"
     ]
    }
   ],
   "source": [
    "# Run optimization engine\n",
    "m2.optimize()"
   ]
  },
  {
   "cell_type": "code",
   "execution_count": 19,
   "metadata": {},
   "outputs": [
    {
     "name": "stdout",
     "output_type": "stream",
     "text": [
      "v[x] 1.0\n",
      "v[y] 0.0\n",
      "v[z] 1.0\n",
      "\n",
      "Optimal objective function value: 3.0\n"
     ]
    }
   ],
   "source": [
    "# Display optimal solution\n",
    "for v in m2.getVars():\n",
    "    print(v.varName, v.x)\n",
    "\n",
    "print(f\"\\nOptimal objective function value: {m2.objVal:,}\")"
   ]
  },
  {
   "cell_type": "markdown",
   "metadata": {},
   "source": [
    "## Exercise:\n",
    "\n",
    "Add the constraint $2x + z \\leq 2$"
   ]
  }
 ],
 "metadata": {
  "kernelspec": {
   "display_name": "Python 3",
   "language": "python",
   "name": "python3"
  },
  "language_info": {
   "codemirror_mode": {
    "name": "ipython",
    "version": 3
   },
   "file_extension": ".py",
   "mimetype": "text/x-python",
   "name": "python",
   "nbconvert_exporter": "python",
   "pygments_lexer": "ipython3",
   "version": "3.8.5"
  }
 },
 "nbformat": 4,
 "nbformat_minor": 2
}
